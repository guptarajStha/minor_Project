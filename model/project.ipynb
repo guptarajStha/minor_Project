{
 "cells": [
  {
   "cell_type": "code",
   "execution_count": 6,
   "metadata": {},
   "outputs": [
    {
     "data": {
      "text/plain": [
       "1.0"
      ]
     },
     "execution_count": 6,
     "metadata": {},
     "output_type": "execute_result"
    }
   ],
   "source": [
    "import pandas as pd\n",
    "from sklearn.metrics import accuracy_score\n",
    "from sklearn.naive_bayes import CategoricalNB\n",
    "from sklearn.model_selection import train_test_split\n",
    "\n",
    "data = pd.read_csv('projectD.csv')\n",
    "data = data.dropna() \n",
    "X = data.drop('RESULT',axis=1)\n",
    "y = data[\"RESULT\"]\n",
    "X_train,X_test,y_train,y_test = train_test_split(X,y, test_size=0.2,random_state=0)\n",
    "model = CategoricalNB()\n",
    "model.fit(X_train,y_train)\n",
    "accuracy_score(model.predict(X_test),y_test)"
   ]
  },
  {
   "cell_type": "code",
   "execution_count": 7,
   "metadata": {},
   "outputs": [
    {
     "data": {
      "text/plain": [
       "0.08656095888215337"
      ]
     },
     "execution_count": 7,
     "metadata": {},
     "output_type": "execute_result"
    }
   ],
   "source": [
    "inputData = {\"Q01\":\"0\",\"Q02\":\"0\",\"Q03\":\"0\",\"Q04\":\"0\",\"Q05\":\"0\",\"Q06\":\"0\",\"Q07\":\"0\",\"Q08\":\"0\",\"Q09\":\"1\",\"Q10\":\"1\",\"Q11\":\"1\",\"Q12\":\"1\",\"Q13\":\"1\",\"Q14\":\"1\",\"Q15\":\"1\",\"Q16\":\"1\"}\n",
    "val = pd.DataFrame([inputData])\n",
    "model.predict(val)"
   ]
  }
 ],
 "metadata": {
  "kernelspec": {
   "display_name": "Python 3",
   "language": "python",
   "name": "python3"
  },
  "language_info": {
   "codemirror_mode": {
    "name": "ipython",
    "version": 3
   },
   "file_extension": ".py",
   "mimetype": "text/x-python",
   "name": "python",
   "nbconvert_exporter": "python",
   "pygments_lexer": "ipython3",
   "version": "3.11.1"
  },
  "orig_nbformat": 4
 },
 "nbformat": 4,
 "nbformat_minor": 2
}
